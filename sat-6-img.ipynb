{
 "cells": [
  {
   "cell_type": "markdown",
   "metadata": {
    "collapsed": true
   },
   "source": [
    "Convert .mat files to images (MATLAB/Octave)\n",
    "```.matlab\n",
    "I = imread (\"/home/cdathuraliya/work/lirneasia/land-use/code/notebooks/out-GaussianBlur.png\");\n",
    "save img.mat I\n",
    "imwrite(I, \"img.jpeg\")\n",
    "```"
   ]
  },
  {
   "cell_type": "markdown",
   "metadata": {},
   "source": [
    "#### Load SAT-6 dataset"
   ]
  },
  {
   "cell_type": "code",
   "execution_count": 1,
   "metadata": {
    "collapsed": false,
    "scrolled": false
   },
   "outputs": [],
   "source": [
    "import numpy as np\n",
    "import scipy.io as sio\n",
    "from scipy.io import loadmat\n",
    "# http://stackoverflow.com/a/12591639 \n",
    "matfile = loadmat('/home/cdathuraliya/work/lirneasia/land-use/SAT-4_SAT-6/SAT-4_and_SAT-6_datasets/sat-6-full.mat', squeeze_me=True, struct_as_record=False)"
   ]
  },
  {
   "cell_type": "markdown",
   "metadata": {},
   "source": [
    "#### Explore dataset structure"
   ]
  },
  {
   "cell_type": "code",
   "execution_count": 4,
   "metadata": {
    "collapsed": false,
    "scrolled": false
   },
   "outputs": [
    {
     "name": "stdout",
     "output_type": "stream",
     "text": [
      "8\n",
      "['train_x', 'train_y', '__header__', '__globals__', '__version__', 'annotations', 'test_y', 'test_x']\n",
      "(28, 28)\n"
     ]
    }
   ],
   "source": [
    "print len(matfile)\n",
    "print matfile.keys()\n",
    "matfile.values()\n",
    "matfile.get('train_x').shape\n",
    "image = matfile.get('train_x')[:,:,:,1]\n",
    "matfile.get('train_x')[:,:,1,1]\n",
    "print matfile.get('train_x')[:,:,1,1].shape"
   ]
  },
  {
   "cell_type": "markdown",
   "metadata": {},
   "source": [
    "#### MATLAB (.mat) file → image files"
   ]
  },
  {
   "cell_type": "code",
   "execution_count": 5,
   "metadata": {
    "collapsed": false,
    "scrolled": false
   },
   "outputs": [],
   "source": [
    "import matplotlib.pyplot as plt\n",
    "import scipy.misc\n",
    "import os\n",
    "import shutil\n",
    "\n",
    "root_dir = \"/home/cdathuraliya/work/lirneasia/land-use/SAT-4_SAT-6/sat6_img/\"\n",
    "# create output directories\n",
    "file_dirs = [\"building\", \"barren_land\", \"trees\", \"grassland\", \"road\", \"water\"]\n",
    "for file_dir in file_dirs:\n",
    "    # create directory to write output images, overwrite if exists\n",
    "    output_dir = root_dir + file_dir\n",
    "    if os.path.exists(output_dir):\n",
    "        shutil.rmtree(output_dir)\n",
    "    os.makedirs(output_dir)\n",
    "\n",
    "# iterate through training samples\n",
    "for k in range(0, 323999):\n",
    "    image = [None] * 28\n",
    "    # iterate through a pixel rows\n",
    "    for i in range(0,28):\n",
    "        pixel_row = [None] * 28\n",
    "        # iterate through a pixel row\n",
    "        for j in range(0,28): \n",
    "            # create pixel RGB values from 3 RGB layers\n",
    "            pixel = [None] * 3    \n",
    "            pixel[0] = matfile.get('train_x')[:, :, 1, k][i][j]\n",
    "            pixel[1] = matfile.get('train_x')[:, :, 2, k][i][j]\n",
    "            pixel[2] = matfile.get('train_x')[:, :, 3, k][i][j]\n",
    "            pixel_row[j] = pixel\n",
    "        image[i] = pixel_row    \n",
    "    \n",
    "    # select output directory based on the sample label (train_y)\n",
    "    file_dir = \"\"\n",
    "    if (matfile.get('train_y').transpose()[k] == [1, 0, 0, 0, 0, 0]).all():\n",
    "       file_dir = \"building\"\n",
    "    elif (matfile.get('train_y').transpose()[k] == [0, 1, 0, 0, 0, 0]).all():\n",
    "       file_dir = \"barren_land\"\n",
    "    elif (matfile.get('train_y').transpose()[k] == [0, 0, 1, 0, 0, 0]).all():\n",
    "       file_dir = \"trees\"\n",
    "    elif (matfile.get('train_y').transpose()[k] == [0, 0, 0, 1, 0, 0]).all():\n",
    "       file_dir = \"grassland\"\n",
    "    elif (matfile.get('train_y').transpose()[k] == [0, 0, 0, 0, 1, 0]).all():\n",
    "       file_dir = \"road\"\n",
    "    else:\n",
    "       file_dir = \"water\"\n",
    "    \n",
    "    # write image\n",
    "    file_path = root_dir + file_dir + \"/img_\" + str(k) + \".jpg\" \n",
    "    scipy.misc.imsave(file_path, image)"
   ]
  },
  {
   "cell_type": "markdown",
   "metadata": {},
   "source": [
    "#### Explore label (train_y & annotations) structure"
   ]
  },
  {
   "cell_type": "code",
   "execution_count": 112,
   "metadata": {
    "collapsed": false
   },
   "outputs": [
    {
     "name": "stdout",
     "output_type": "stream",
     "text": [
      "(6, 324000)\n",
      "(324000, 6)\n",
      "[ True  True  True  True  True  True]\n",
      "[0 0 1 0 0 0]\n",
      "[[u'100000' u'building']\n",
      " [u'010000' u'barren land']\n",
      " [u'001000' u'trees']\n",
      " [u'000100' u'grassland']\n",
      " [u'000010' u'road']\n",
      " [u'000001' u'water']]\n",
      "True\n"
     ]
    }
   ],
   "source": [
    "import numpy\n",
    "numpy.set_printoptions(threshold=numpy.nan)\n",
    "print matfile.get('train_y').shape\n",
    "print matfile.get('train_y').transpose().shape\n",
    "print matfile.get('train_y').transpose()[0] == [0,0,1,0,0,0]\n",
    "print matfile.get('train_y').transpose()[0]\n",
    "print matfile.get('annotations')\n",
    "print (matfile.get('train_y').transpose()[0] == [0,0,1,0,0,0]).all()"
   ]
  },
  {
   "cell_type": "markdown",
   "metadata": {},
   "source": [
    "### SAT-6\n",
    "\n",
    "__train_x (total 324000)__\n",
    "\n",
    "* barren_land: 73396\n",
    "* building: 14923\n",
    "* grassland: 50347\n",
    "* road: 8192\n",
    "* trees: 56809\n",
    "* water: 120332"
   ]
  }
 ],
 "metadata": {
  "kernelspec": {
   "display_name": "Python [Root]",
   "language": "python",
   "name": "Python [Root]"
  },
  "language_info": {
   "codemirror_mode": {
    "name": "ipython",
    "version": 2
   },
   "file_extension": ".py",
   "mimetype": "text/x-python",
   "name": "python",
   "nbconvert_exporter": "python",
   "pygments_lexer": "ipython2",
   "version": "2.7.11"
  }
 },
 "nbformat": 4,
 "nbformat_minor": 0
}
