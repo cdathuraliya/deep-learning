{
 "cells": [
  {
   "cell_type": "markdown",
   "metadata": {},
   "source": [
    "#### Softmax custom MNIST\n",
    "Softmax regression example for custom MNIST images (instead of TensorFlow native MNIST dataset)"
   ]
  },
  {
   "cell_type": "code",
   "execution_count": 1,
   "metadata": {
    "collapsed": true
   },
   "outputs": [],
   "source": [
    "import numpy as np\n",
    "from PIL import Image\n",
    "import os\n",
    "import csv\n",
    "import tensorflow as tf\n",
    "# function to read images and labels from a CSV\n",
    "# CSV format: <relative file path>,<label>\n",
    "def get_dataset(csv_path):\n",
    "  images = []\n",
    "  labels = []\n",
    "  \n",
    "  with open(csv_path, 'rb') as csvfile:\n",
    "    csv_reader = csv.reader(csvfile)\n",
    "    for rel_path, label in csv_reader:\n",
    "      # create absolute image path\n",
    "      #abs_path = os.getcwd() + '/MNIST_data/mnist/' + rel_path\n",
    "      abs_path = os.getcwd() + \"/mnist/\" + rel_path\n",
    "      # read image and reshape from 28x28 to 1x784\n",
    "      img = np.asarray(Image.open(abs_path)).reshape(1, -1)\n",
    "      img_f32 = np.float32([x / 255.0 for x in img])\n",
    "      # append images and labels to lists\n",
    "      images.append(img_f32)\n",
    "      labels.append(int(label))\n",
    "  \n",
    "  # convert lists into numpy ndarrays and reshape\n",
    "  images_array = np.asarray(images).reshape(-1, 784)\n",
    "  labels_array = np.asarray(labels).reshape(1, -1).flatten()\n",
    "  # one-hot encode labels\n",
    "  sess = tf.Session()\n",
    "  with sess.as_default():\n",
    "    labels_one_hot = tf.one_hot(labels_array, 10).eval()\n",
    "  \n",
    "  return images_array, labels_one_hot\n",
    "\n",
    "train_images, train_labels = get_dataset(os.getcwd() + \"/mnist/train-labels.csv\")\n",
    "test_images, test_labels = get_dataset(os.getcwd() + \"/mnist/test-labels.csv\")"
   ]
  },
  {
   "cell_type": "code",
   "execution_count": 2,
   "metadata": {
    "collapsed": true
   },
   "outputs": [],
   "source": [
    "import random\n",
    "# function to return a random batch (given size) of images and labels\n",
    "def get_random_data_batch(images, labels, batch_size):  \n",
    "  dataset_length = images.shape[0]\n",
    "  random_indices = random.sample(range(0, dataset_length), batch_size)\n",
    "  \n",
    "  images_batch = []\n",
    "  labels_batch = []\n",
    "  for random_index in random_indices:\n",
    "    images_batch.append(images[random_index])\n",
    "    labels_batch.append(labels[random_index])\n",
    "    \n",
    "  return np.asarray(images_batch), np.asarray(labels_batch)"
   ]
  },
  {
   "cell_type": "code",
   "execution_count": 3,
   "metadata": {
    "collapsed": true
   },
   "outputs": [],
   "source": [
    "# https://www.tensorflow.org/tutorials/mnist/beginners/\n",
    "import tensorflow as tf\n",
    "\n",
    "x = tf.placeholder(tf.float32, [None, 784])\n",
    "W = tf.Variable(tf.zeros([784, 10]))\n",
    "b = tf.Variable(tf.zeros([10]))\n",
    "\n",
    "y = tf.nn.softmax(tf.matmul(x, W) + b)\n",
    "y_ = tf.placeholder(tf.float32, [None, 10])\n",
    "cross_entropy = tf.reduce_mean(-tf.reduce_sum(y_ * tf.log(y), reduction_indices=[1]))\n",
    "train_step = tf.train.GradientDescentOptimizer(0.5).minimize(cross_entropy)\n",
    "\n",
    "init = tf.initialize_all_variables()\n",
    "sess = tf.Session()\n",
    "sess.run(init)\n",
    "\n",
    "for i in range(1000):\n",
    "  batch_xs, batch_ys = get_random_data_batch(train_images, train_labels, 100)\n",
    "  sess.run(train_step, feed_dict={x: batch_xs, y_: batch_ys})"
   ]
  },
  {
   "cell_type": "code",
   "execution_count": 4,
   "metadata": {
    "collapsed": false
   },
   "outputs": [
    {
     "name": "stdout",
     "output_type": "stream",
     "text": [
      "0.9165\n"
     ]
    }
   ],
   "source": [
    "correct_prediction = tf.equal(tf.argmax(y,1), tf.argmax(y_,1))\n",
    "accuracy = tf.reduce_mean(tf.cast(correct_prediction, tf.float32))\n",
    "print(sess.run(accuracy, feed_dict={x: test_images, y_: test_labels}))"
   ]
  }
 ],
 "metadata": {
  "kernelspec": {
   "display_name": "Python 2",
   "language": "python",
   "name": "python2"
  },
  "language_info": {
   "codemirror_mode": {
    "name": "ipython",
    "version": 2
   },
   "file_extension": ".py",
   "mimetype": "text/x-python",
   "name": "python",
   "nbconvert_exporter": "python",
   "pygments_lexer": "ipython2",
   "version": "2.7.12"
  }
 },
 "nbformat": 4,
 "nbformat_minor": 2
}
