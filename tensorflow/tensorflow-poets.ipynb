{
 "cells": [
  {
   "cell_type": "markdown",
   "metadata": {},
   "source": [
    "#### TensorFlow For Poets (non Docker)\n",
    "https://codelabs.developers.google.com/codelabs/tensorflow-for-poets/#0"
   ]
  },
  {
   "cell_type": "markdown",
   "metadata": {},
   "source": [
    "* Download and extract `flower_photos.tgz`\n",
    "* Clone tensorflow repo and checkout branch `r0.11` (to be compatible with installed TensorFlow version)\n",
    "* Had to rename `/tf_files` to `tf_files` in tutorial commands and in label_image.py\n",
    "\n",
    "Retrain\n",
    "```\n",
    "$ python /home/cdathuraliya/work/lirneasia/git/tensorflow/tensorflow/examples/image_retraining/retrain.py \\\n",
    "--bottleneck_dir=tf_files/bottlenecks \\\n",
    "--model_dir=tf_files/inception \\\n",
    "--output_graph=tf_files/retrained_graph.pb \\\n",
    "--output_labels=tf_files/retrained_labels.txt \\\n",
    "--image_dir tf_files/flower_photos\n",
    "```\n",
    "\n",
    "Prediction\n",
    "```\n",
    "$ python tf_files/label_image.py tf_files/flower_photos/daisy/21652746_cc379e0eea_m.jpg\n",
    "```"
   ]
  },
  {
   "cell_type": "markdown",
   "metadata": {},
   "source": [
    "Training on SAT-6 dataset final test accuracy - 94.8%"
   ]
  }
 ],
 "metadata": {
  "kernelspec": {
   "display_name": "Python 2",
   "language": "python",
   "name": "python2"
  },
  "language_info": {
   "codemirror_mode": {
    "name": "ipython",
    "version": 2
   },
   "file_extension": ".py",
   "mimetype": "text/x-python",
   "name": "python",
   "nbconvert_exporter": "python",
   "pygments_lexer": "ipython2",
   "version": "2.7.12"
  }
 },
 "nbformat": 4,
 "nbformat_minor": 2
}
